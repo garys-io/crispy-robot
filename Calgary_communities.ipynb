{
  "nbformat": 4,
  "nbformat_minor": 0,
  "metadata": {
    "colab": {
      "name": "Calgary communities.ipynb",
      "provenance": [],
      "collapsed_sections": [],
      "authorship_tag": "ABX9TyMfLLoPfJeDoSzMOlkYg+zE",
      "include_colab_link": true
    },
    "kernelspec": {
      "name": "python3",
      "display_name": "Python 3"
    },
    "language_info": {
      "name": "python"
    }
  },
  "cells": [
    {
      "cell_type": "markdown",
      "metadata": {
        "id": "view-in-github",
        "colab_type": "text"
      },
      "source": [
        "<a href=\"https://colab.research.google.com/github/garys-io/crispy-robot/blob/main/Calgary_communities.ipynb\" target=\"_parent\"><img src=\"https://colab.research.google.com/assets/colab-badge.svg\" alt=\"Open In Colab\"/></a>"
      ]
    },
    {
      "cell_type": "code",
      "execution_count": 7,
      "metadata": {
        "id": "XtNTZAgdKMpY"
      },
      "outputs": [],
      "source": [
        "# !pip install requests\n",
        "import requests\n",
        "from pprint import pprint as p\n",
        "from bs4 import BeautifulSoup\n",
        "import pathlib\n",
        "import os"
      ]
    },
    {
      "cell_type": "code",
      "source": [
        "dataDir = '/content/data'\n",
        "\n",
        "pdfFiles = [file for file in os.listdir(dataDir) if file.endswith('.pdf')]\n",
        "print(f'Found {len(pdfFiles)} pdf files at dataDir') # ls -al data | grep .pdf | wc -l\n",
        "\n",
        "# fetch pdf files if there are less than 197 expected\n",
        "fetchPdfs = len(pdfFiles) < 197\n",
        "print('fetchPdfs', fetchPdfs)\n",
        "print()\n",
        "\n",
        "txtFiles = [file for file in os.listdir(dataDir) if file.endswith('.txt')]\n",
        "print(f'Found {len(txtFiles)} txt files at dataDir')\n",
        "\n",
        "# extract text out of pdf files\n",
        "extractTexts = len(txtFiles) < 197\n",
        "print('extractTexts', extractTexts)"
      ],
      "metadata": {
        "colab": {
          "base_uri": "https://localhost:8080/"
        },
        "id": "ElqPUlTec1SQ",
        "outputId": "f39e5bf9-ecdd-45a5-f031-83e2ea0310ed"
      },
      "execution_count": 18,
      "outputs": [
        {
          "output_type": "stream",
          "name": "stdout",
          "text": [
            "Found 197 pdf files at dataDir\n",
            "fetchPdfs False\n",
            "\n",
            "Found 0 txt files at dataDir\n",
            "extractTexts True\n"
          ]
        }
      ]
    },
    {
      "cell_type": "code",
      "source": [
        "if fetchPdfs:\n",
        "  # Gather data\n",
        "  calgaryCommuniitesUrl = 'https://www.calgary.ca/csps/cns/research-and-strategy/community-profiles/community-profiles.html'\n",
        "\n",
        "  r = requests.get(calgaryCommuniitesUrl)\n",
        "  # p(r.text)\n",
        "\n",
        "  # parse\n",
        "  soup = BeautifulSoup(r.text, 'html.parser')\n",
        "  aTags = soup.find_all('a')\n",
        "  print(f\"Found {len(aTags)} anchor tags\")\n",
        "\n",
        "  communityPageUrls = [t.attrs['href'] for t in aTags\n",
        "                      if 'href' in t.attrs\n",
        "                      and t.attrs['href'].startswith('https://www.calgary.ca/csps/cns/social-research-policy-and-resources/community-profiles/')]\n",
        "  print(f\"Found {len(communityPageUrls)} community page URLs\")\n",
        "  # p(aTagsForCommunities)\n",
        "\n",
        "  # Gather data for individual community by downloading their profile pdf\n",
        "  for communityPageUrl in communityPageUrls:\n",
        "    # p(communityPageUrl)\n",
        "    r = requests.get(communityPageUrl)\n",
        "    soup = BeautifulSoup(r.text, 'html.parser')\n",
        "    pdfUrls = [t.attrs['href'] for t in soup.find_all('a')\n",
        "              if t.attrs['href']\n",
        "              and t.attrs['href'].startswith('/content/')]\n",
        "    # print(f\"Found {len(pdfUrls)} pdf urls\")\n",
        "\n",
        "    for pdfUrl in pdfUrls:\n",
        "      url = f\"https://www.calgary.ca{pdfUrl}\"\n",
        "      filename = pdfUrl.split('/')[-1]\n",
        "      with open(f'{dataDir}/{filename}', 'wb') as f:\n",
        "        r = requests.get(url)\n",
        "        f.write(r.content)\n",
        "        print(f\"Saved: {filename}\")\n",
        "      break # only first pdf is important"
      ],
      "metadata": {
        "id": "BOxMv24RLbbY"
      },
      "execution_count": 19,
      "outputs": []
    },
    {
      "cell_type": "code",
      "source": [
        "# !pip install PyPDF2\n",
        "import PyPDF2\n",
        "\n",
        "pdfPagesParseConfig = [\n",
        "  {\n",
        "    'headerCutoff': 730,\n",
        "    'footerCutoff': 1185\n",
        "    \n",
        "  }\n",
        "]\n",
        "\n",
        "if extractTexts:\n",
        "  # inspecting first file\n",
        "  # for pdfFile in pdfFiles:\n",
        "    # with open(f'{dataDir}/{pdfFile}', 'rb') as f:\n",
        "  with open(f'{dataDir}/abbeydale.pdf', 'rb') as f:\n",
        "    pdfReader = PyPDF2.PdfFileReader(f)\n",
        "    pageObj = pdfReader.getPage(0).extractText()\n",
        "    pageText = pageObj[pdfPagesParseConfig[0]['headerCutoff']\n",
        "                       :pdfPagesParseConfig[0]['footerCutoff']].strip()\n",
        "    pageLines = [line for line in pageText.split('\\n') if line.strip()]\n",
        "\n",
        "    [\n",
        "      pop2016,\n",
        "      _,\n",
        "      _,\n",
        "      _,\n",
        "      _,\n",
        "      youthPop2016,\n",
        "      _,\n",
        "      _,\n",
        "      _,\n",
        "      _,\n",
        "      _,\n",
        "      _,\n",
        "      _,\n",
        "      _,\n",
        "      _,\n",
        "      _,\n",
        "      _,\n",
        "      _,\n",
        "      _,\n",
        "      _,\n",
        "      _,\n",
        "      _,\n",
        "      _,\n",
        "      _,\n",
        "      _,\n",
        "      _,\n",
        "      _,\n",
        "      _,\n",
        "      _,\n",
        "      _,\n",
        "      _,\n",
        "      _,\n",
        "    ] = pageLines\n",
        "    print(pop2016, youthPop2016)\n",
        "    # ] = [\n",
        "    #   '6,150',\n",
        "    #   '0',\n",
        "    #   '-',\n",
        "    #   '14 years:',\n",
        "    #   '65+ years:',\n",
        "    #   '22',\n",
        "    #   '%',\n",
        "    #   '8',\n",
        "    #   '%',\n",
        "    #   '1,222,390',\n",
        "    #   '19%',\n",
        "    #   '10%',\n",
        "    #   'Per cent ',\n",
        "    #   'households spending 30% or more of ',\n",
        "    #   'total income on shelter in 2016',\n",
        "    #   'Per cent Immigrants in 2016',\n",
        "    #   '21%',\n",
        "    #   '33',\n",
        "    #   '%',\n",
        "    #   '22%',\n",
        "    #   '31%',\n",
        "    #   'Median total household income (before tax) in ',\n",
        "    #   '2015:',\n",
        "    #   'Per ',\n",
        "    #   'cent individuals who speak English most ',\n",
        "    #   'often at home',\n",
        "    #   '$',\n",
        "    #   '81,232',\n",
        "    #   '72%',\n",
        "    #   '$$$',\n",
        "    #   '$97,329',\n",
        "    #   '75%'\n",
        "    # ]\n",
        "    p(pageLines)\n",
        "    # break\n"
      ],
      "metadata": {
        "colab": {
          "base_uri": "https://localhost:8080/"
        },
        "id": "UIP0jipNj3H8",
        "outputId": "26e17d79-018f-4221-93df-f189aac67691"
      },
      "execution_count": 72,
      "outputs": [
        {
          "output_type": "stream",
          "name": "stdout",
          "text": [
            "6,150 22\n",
            "['6,150',\n",
            " '0',\n",
            " '-',\n",
            " '14 years:',\n",
            " '65+ years:',\n",
            " '22',\n",
            " '%',\n",
            " '8',\n",
            " '%',\n",
            " '1,222,390',\n",
            " '19%',\n",
            " '10%',\n",
            " 'Per cent ',\n",
            " 'households spending 30% or more of ',\n",
            " 'total income on shelter in 2016',\n",
            " 'Per cent Immigrants in 2016',\n",
            " '21%',\n",
            " '33',\n",
            " '%',\n",
            " '22%',\n",
            " '31%',\n",
            " 'Median total household income (before tax) in ',\n",
            " '2015:',\n",
            " 'Per ',\n",
            " 'cent individuals who speak English most ',\n",
            " 'often at home',\n",
            " '$',\n",
            " '81,232',\n",
            " '72%',\n",
            " '$$$',\n",
            " '$97,329',\n",
            " '75%']\n"
          ]
        }
      ]
    },
    {
      "cell_type": "code",
      "source": [
        ""
      ],
      "metadata": {
        "id": "c5RXCObGkBe3"
      },
      "execution_count": null,
      "outputs": []
    }
  ]
}