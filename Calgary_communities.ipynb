{
  "nbformat": 4,
  "nbformat_minor": 0,
  "metadata": {
    "colab": {
      "name": "Calgary communities.ipynb",
      "provenance": [],
      "collapsed_sections": [],
      "authorship_tag": "ABX9TyPw2N0STj1g9rloh6b7xEoD",
      "include_colab_link": true
    },
    "kernelspec": {
      "name": "python3",
      "display_name": "Python 3"
    },
    "language_info": {
      "name": "python"
    }
  },
  "cells": [
    {
      "cell_type": "markdown",
      "metadata": {
        "id": "view-in-github",
        "colab_type": "text"
      },
      "source": [
        "<a href=\"https://colab.research.google.com/github/garys-io/crispy-robot/blob/main/Calgary_communities.ipynb\" target=\"_parent\"><img src=\"https://colab.research.google.com/assets/colab-badge.svg\" alt=\"Open In Colab\"/></a>"
      ]
    },
    {
      "cell_type": "code",
      "execution_count": 130,
      "metadata": {
        "id": "XtNTZAgdKMpY"
      },
      "outputs": [],
      "source": [
        "# !pip install requests\n",
        "import requests\n",
        "from pprint import pprint as p\n",
        "from bs4 import BeautifulSoup\n",
        "import pathlib"
      ]
    },
    {
      "cell_type": "code",
      "source": [
        "dataDir = '/content/data'"
      ],
      "metadata": {
        "id": "ElqPUlTec1SQ"
      },
      "execution_count": 131,
      "outputs": []
    },
    {
      "cell_type": "code",
      "source": [
        "## Gather data\n",
        "calgaryCommuniitesUrl = 'https://www.calgary.ca/csps/cns/research-and-strategy/community-profiles/community-profiles.html'\n",
        "\n",
        "r = requests.get(calgaryCommuniitesUrl)\n",
        "# p(r.text)"
      ],
      "metadata": {
        "id": "BOxMv24RLbbY"
      },
      "execution_count": 132,
      "outputs": []
    },
    {
      "cell_type": "code",
      "source": [
        "# parse\n",
        "soup = BeautifulSoup(r.text, 'html.parser')\n",
        "aTags = soup.find_all('a')\n",
        "print(f\"Found {len(aTags)} anchor tags\")\n",
        "\n",
        "communityPageUrls = [t.attrs['href'] for t in aTags\n",
        "                     if 'href' in t.attrs and t.attrs['href'].startswith('https://www.calgary.ca/csps/cns/social-research-policy-and-resources/community-profiles/')]\n",
        "print(f\"Found {len(communityPageUrls)} community page URLs\")\n",
        "\n",
        "# p(aTagsForCommunities)"
      ],
      "metadata": {
        "colab": {
          "base_uri": "https://localhost:8080/"
        },
        "id": "tYOReNigMtls",
        "outputId": "e3351a36-a1bd-4d90-b22a-772c5c03a35c"
      },
      "execution_count": 133,
      "outputs": [
        {
          "output_type": "stream",
          "name": "stdout",
          "text": [
            "Found 378 anchor tags\n",
            "Found 197 community page URLs\n"
          ]
        }
      ]
    },
    {
      "cell_type": "code",
      "source": [
        "# Gather data for individual community by downloading their profile pdf\n",
        "for communityPageUrl in communityPageUrls:\n",
        "  p(communityPageUrl)\n",
        "  r = requests.get(communityPageUrl)\n",
        "  soup = BeautifulSoup(r.text, 'html.parser')\n",
        "  pdfUrls = [t.attrs['href'] for t in soup.find_all('a')\n",
        "             if t.attrs['href'] and t.attrs['href'].startswith('/content/')]\n",
        "  print(f\"Found {len(pdfUrls)} pdf urls\")\n",
        "\n",
        "  for pdfUrl in pdfUrls:\n",
        "    url = f\"https://www.calgary.ca{pdfUrl}\"\n",
        "    filename = pdfUrl.split('/')[-1]\n",
        "    with open(f'{dataDir}/{filename}', 'wb') as f:\n",
        "      r = requests.get(url)\n",
        "      f.write(r.content)\n",
        "    break # only first pdf is important"
      ],
      "metadata": {
        "colab": {
          "base_uri": "https://localhost:8080/"
        },
        "id": "wH4ssXiIOadT",
        "outputId": "2efe3920-0973-4ac0-e461-45ae69350c17"
      },
      "execution_count": null,
      "outputs": [
        {
          "output_type": "stream",
          "name": "stdout",
          "text": [
            "'https://www.calgary.ca/csps/cns/social-research-policy-and-resources/community-profiles/abbeydale-profile.html'\n",
            "Found 2 pdf urls\n",
            "'https://www.calgary.ca/csps/cns/social-research-policy-and-resources/community-profiles/acadia-profile.html'\n",
            "Found 2 pdf urls\n",
            "'https://www.calgary.ca/csps/cns/social-research-policy-and-resources/community-profiles/albert-park-radisson-heights-profile.html'\n",
            "Found 2 pdf urls\n",
            "'https://www.calgary.ca/csps/cns/social-research-policy-and-resources/community-profiles/altadore-profile.html'\n",
            "Found 2 pdf urls\n",
            "'https://www.calgary.ca/csps/cns/social-research-policy-and-resources/community-profiles/applewood-park-profile.html'\n",
            "Found 2 pdf urls\n",
            "'https://www.calgary.ca/csps/cns/social-research-policy-and-resources/community-profiles/arbour-lake-profile.html'\n",
            "Found 2 pdf urls\n",
            "'https://www.calgary.ca/csps/cns/social-research-policy-and-resources/community-profiles/aspen-woods-profile.html'\n",
            "Found 2 pdf urls\n",
            "'https://www.calgary.ca/csps/cns/social-research-policy-and-resources/community-profiles/auburn-bay-profile.html'\n",
            "Found 2 pdf urls\n",
            "'https://www.calgary.ca/csps/cns/social-research-policy-and-resources/community-profiles/banff-trail-profile.html'\n",
            "Found 2 pdf urls\n",
            "'https://www.calgary.ca/csps/cns/social-research-policy-and-resources/community-profiles/bankview-profile.html'\n",
            "Found 2 pdf urls\n",
            "'https://www.calgary.ca/csps/cns/social-research-policy-and-resources/community-profiles/bayview-profile.html'\n",
            "Found 2 pdf urls\n",
            "'https://www.calgary.ca/csps/cns/social-research-policy-and-resources/community-profiles/beddington-heights-profile.html'\n",
            "Found 2 pdf urls\n",
            "'https://www.calgary.ca/csps/cns/social-research-policy-and-resources/community-profiles/bel-aire-profile.html'\n",
            "Found 2 pdf urls\n",
            "'https://www.calgary.ca/csps/cns/social-research-policy-and-resources/community-profiles/beltline-profile.html'\n",
            "Found 2 pdf urls\n",
            "'https://www.calgary.ca/csps/cns/social-research-policy-and-resources/community-profiles/bonavista-downs-profile.html'\n",
            "Found 2 pdf urls\n",
            "'https://www.calgary.ca/csps/cns/social-research-policy-and-resources/community-profiles/bowness-profile.html'\n",
            "Found 2 pdf urls\n",
            "'https://www.calgary.ca/csps/cns/social-research-policy-and-resources/community-profiles/braeside-profile.html'\n",
            "Found 2 pdf urls\n",
            "'https://www.calgary.ca/csps/cns/social-research-policy-and-resources/community-profiles/brentwood-profile.html'\n",
            "Found 2 pdf urls\n",
            "'https://www.calgary.ca/csps/cns/social-research-policy-and-resources/community-profiles/bridgeland-riverside-profile.html'\n",
            "Found 2 pdf urls\n",
            "'https://www.calgary.ca/csps/cns/social-research-policy-and-resources/community-profiles/bridlewood-profile.html'\n",
            "Found 2 pdf urls\n",
            "'https://www.calgary.ca/csps/cns/social-research-policy-and-resources/community-profiles/britannia-profile.html'\n",
            "Found 2 pdf urls\n",
            "'https://www.calgary.ca/csps/cns/social-research-policy-and-resources/community-profiles/cambrian-heights-profile.html'\n",
            "Found 2 pdf urls\n",
            "'https://www.calgary.ca/csps/cns/social-research-policy-and-resources/community-profiles/canyon-meadows-profile.html'\n",
            "Found 2 pdf urls\n",
            "'https://www.calgary.ca/csps/cns/social-research-policy-and-resources/community-profiles/capitol-hill-profile.html'\n",
            "Found 2 pdf urls\n",
            "'https://www.calgary.ca/csps/cns/social-research-policy-and-resources/community-profiles/castleridge-profile.html'\n",
            "Found 2 pdf urls\n",
            "'https://www.calgary.ca/csps/cns/social-research-policy-and-resources/community-profiles/cedarbrae-profile.html'\n",
            "Found 2 pdf urls\n",
            "'https://www.calgary.ca/csps/cns/social-research-policy-and-resources/community-profiles/chaparral-profile.html'\n",
            "Found 2 pdf urls\n",
            "'https://www.calgary.ca/csps/cns/social-research-policy-and-resources/community-profiles/charleswood-profile.html'\n",
            "Found 2 pdf urls\n",
            "'https://www.calgary.ca/csps/cns/social-research-policy-and-resources/community-profiles/chinatown-profile.html'\n",
            "Found 2 pdf urls\n",
            "'https://www.calgary.ca/csps/cns/social-research-policy-and-resources/community-profiles/chinook-park-profile.html'\n",
            "Found 2 pdf urls\n",
            "'https://www.calgary.ca/csps/cns/social-research-policy-and-resources/community-profiles/christie-park-profile.html'\n",
            "Found 2 pdf urls\n",
            "'https://www.calgary.ca/csps/cns/social-research-policy-and-resources/community-profiles/citadel-profile.html'\n",
            "Found 2 pdf urls\n",
            "'https://www.calgary.ca/csps/cns/social-research-policy-and-resources/community-profiles/cityscape.html'\n",
            "Found 1 pdf urls\n",
            "'https://www.calgary.ca/csps/cns/social-research-policy-and-resources/community-profiles/cliff-bungalow-profile.html'\n",
            "Found 2 pdf urls\n",
            "'https://www.calgary.ca/csps/cns/social-research-policy-and-resources/community-profiles/coach-hill-profile.html'\n",
            "Found 2 pdf urls\n",
            "'https://www.calgary.ca/csps/cns/social-research-policy-and-resources/community-profiles/collingwood-profile.html'\n",
            "Found 2 pdf urls\n",
            "'https://www.calgary.ca/csps/cns/social-research-policy-and-resources/community-profiles/copperfield-profile.html'\n",
            "Found 2 pdf urls\n",
            "'https://www.calgary.ca/csps/cns/social-research-policy-and-resources/community-profiles/coral-springs-profile.html'\n",
            "Found 2 pdf urls\n",
            "'https://www.calgary.ca/csps/cns/social-research-policy-and-resources/community-profiles/cougar-ridge-profile.html'\n",
            "Found 2 pdf urls\n",
            "'https://www.calgary.ca/csps/cns/social-research-policy-and-resources/community-profiles/country-hills-profile.html'\n",
            "Found 2 pdf urls\n",
            "'https://www.calgary.ca/csps/cns/social-research-policy-and-resources/community-profiles/country-hills-village-profile.html'\n",
            "Found 2 pdf urls\n",
            "'https://www.calgary.ca/csps/cns/social-research-policy-and-resources/community-profiles/coventry-hills-profile.html'\n",
            "Found 2 pdf urls\n",
            "'https://www.calgary.ca/csps/cns/social-research-policy-and-resources/community-profiles/cranston-profile.html'\n",
            "Found 2 pdf urls\n",
            "'https://www.calgary.ca/csps/cns/social-research-policy-and-resources/community-profiles/crescent-heights-profile.html'\n",
            "Found 2 pdf urls\n",
            "'https://www.calgary.ca/csps/cns/social-research-policy-and-resources/community-profiles/crestmont-profile.html'\n",
            "Found 2 pdf urls\n",
            "'https://www.calgary.ca/csps/cns/social-research-policy-and-resources/community-profiles/currie-barracks.html'\n",
            "Found 1 pdf urls\n",
            "'https://www.calgary.ca/csps/cns/social-research-policy-and-resources/community-profiles/dalhousie-profile.html'\n",
            "Found 2 pdf urls\n",
            "'https://www.calgary.ca/csps/cns/social-research-policy-and-resources/community-profiles/deer-ridge.html'\n",
            "Found 2 pdf urls\n",
            "'https://www.calgary.ca/csps/cns/social-research-policy-and-resources/community-profiles/deer-run.html'\n",
            "Found 2 pdf urls\n",
            "'https://www.calgary.ca/csps/cns/social-research-policy-and-resources/community-profiles/diamond-cove.html'\n",
            "Found 2 pdf urls\n",
            "'https://www.calgary.ca/csps/cns/social-research-policy-and-resources/community-profiles/discovery-ridge.html'\n",
            "Found 2 pdf urls\n",
            "'https://www.calgary.ca/csps/cns/social-research-policy-and-resources/community-profiles/douglasdale-glen.html'\n",
            "Found 2 pdf urls\n",
            "'https://www.calgary.ca/csps/cns/social-research-policy-and-resources/community-profiles/dover.html'\n",
            "Found 2 pdf urls\n",
            "'https://www.calgary.ca/csps/cns/social-research-policy-and-resources/community-profiles/downtown-east-village.html'\n",
            "Found 2 pdf urls\n",
            "'https://www.calgary.ca/csps/cns/social-research-policy-and-resources/community-profiles/downtown-west-end.html'\n",
            "Found 2 pdf urls\n",
            "'https://www.calgary.ca/csps/cns/social-research-policy-and-resources/community-profiles/downtown-commercial-core.html'\n",
            "Found 2 pdf urls\n",
            "'https://www.calgary.ca/csps/cns/social-research-policy-and-resources/community-profiles/eagle-ridge.html'\n",
            "Found 2 pdf urls\n",
            "'https://www.calgary.ca/csps/cns/social-research-policy-and-resources/community-profiles/eau-claire.html'\n",
            "Found 2 pdf urls\n",
            "'https://www.calgary.ca/csps/cns/social-research-policy-and-resources/community-profiles/edgemont.html'\n",
            "Found 2 pdf urls\n",
            "'https://www.calgary.ca/csps/cns/social-research-policy-and-resources/community-profiles/elbow-park.html'\n",
            "Found 2 pdf urls\n",
            "'https://www.calgary.ca/csps/cns/social-research-policy-and-resources/community-profiles/elboya.html'\n",
            "Found 2 pdf urls\n",
            "'https://www.calgary.ca/csps/cns/social-research-policy-and-resources/community-profiles/erin-woods.html'\n",
            "Found 2 pdf urls\n",
            "'https://www.calgary.ca/csps/cns/social-research-policy-and-resources/community-profiles/erlton.html'\n",
            "Found 2 pdf urls\n",
            "'https://www.calgary.ca/csps/cns/social-research-policy-and-resources/community-profiles/evanston.html'\n",
            "Found 2 pdf urls\n",
            "'https://www.calgary.ca/csps/cns/social-research-policy-and-resources/community-profiles/evergreen.html'\n",
            "Found 2 pdf urls\n",
            "'https://www.calgary.ca/csps/cns/social-research-policy-and-resources/community-profiles/fairview.html'\n",
            "Found 2 pdf urls\n",
            "'https://www.calgary.ca/csps/cns/social-research-policy-and-resources/community-profiles/falconridge.html'\n",
            "Found 2 pdf urls\n",
            "'https://www.calgary.ca/csps/cns/social-research-policy-and-resources/community-profiles/forest-heights.html'\n",
            "Found 2 pdf urls\n",
            "'https://www.calgary.ca/csps/cns/social-research-policy-and-resources/community-profiles/forest-lawn.html'\n",
            "Found 2 pdf urls\n",
            "'https://www.calgary.ca/csps/cns/social-research-policy-and-resources/community-profiles/garrison-green.html'\n",
            "Found 1 pdf urls\n",
            "'https://www.calgary.ca/csps/cns/social-research-policy-and-resources/community-profiles/garrison-woods.html'\n",
            "Found 1 pdf urls\n",
            "'https://www.calgary.ca/csps/cns/social-research-policy-and-resources/community-profiles/glamorgan.html'\n",
            "Found 2 pdf urls\n",
            "'https://www.calgary.ca/csps/cns/social-research-policy-and-resources/community-profiles/glenbrook.html'\n",
            "Found 2 pdf urls\n",
            "'https://www.calgary.ca/csps/cns/social-research-policy-and-resources/community-profiles/glendale.html'\n",
            "Found 2 pdf urls\n",
            "'https://www.calgary.ca/csps/cns/social-research-policy-and-resources/community-profiles/greenview.html'\n",
            "Found 2 pdf urls\n",
            "'https://www.calgary.ca/csps/cns/social-research-policy-and-resources/community-profiles/greenwood---greenbriar.html'\n",
            "Found 2 pdf urls\n",
            "'https://www.calgary.ca/csps/cns/social-research-policy-and-resources/community-profiles/hamptons.html'\n",
            "Found 2 pdf urls\n",
            "'https://www.calgary.ca/csps/cns/social-research-policy-and-resources/community-profiles/harvest-hills.html'\n",
            "Found 3 pdf urls\n",
            "'https://www.calgary.ca/csps/cns/social-research-policy-and-resources/community-profiles/hawkwood.html'\n"
          ]
        }
      ]
    },
    {
      "cell_type": "code",
      "source": [
        "import os\n",
        "os.dir('/content')"
      ],
      "metadata": {
        "id": "uWUFnhdzdQT-"
      },
      "execution_count": null,
      "outputs": []
    },
    {
      "cell_type": "code",
      "source": [
        ""
      ],
      "metadata": {
        "id": "rr9tdGe1Znfr"
      },
      "execution_count": null,
      "outputs": []
    },
    {
      "cell_type": "markdown",
      "source": [
        ""
      ],
      "metadata": {
        "id": "wJxWGtRWLBxH"
      }
    }
  ]
}