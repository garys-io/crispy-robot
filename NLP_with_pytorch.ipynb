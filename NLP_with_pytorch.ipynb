{
  "nbformat": 4,
  "nbformat_minor": 0,
  "metadata": {
    "colab": {
      "name": "NLP with pytorch.ipynb",
      "provenance": [],
      "collapsed_sections": [],
      "authorship_tag": "ABX9TyN4xpakY134piHFBFAtio+N",
      "include_colab_link": true
    },
    "kernelspec": {
      "name": "python3",
      "display_name": "Python 3"
    },
    "language_info": {
      "name": "python"
    }
  },
  "cells": [
    {
      "cell_type": "markdown",
      "metadata": {
        "id": "view-in-github",
        "colab_type": "text"
      },
      "source": [
        "<a href=\"https://colab.research.google.com/github/garys-io/crispy-robot/blob/main/NLP_with_pytorch.ipynb\" target=\"_parent\"><img src=\"https://colab.research.google.com/assets/colab-badge.svg\" alt=\"Open In Colab\"/></a>"
      ]
    },
    {
      "cell_type": "code",
      "execution_count": null,
      "metadata": {
        "id": "LK0wIslJukKx"
      },
      "outputs": [],
      "source": [
        "# Chapter 1"
      ]
    },
    {
      "cell_type": "code",
      "source": [
        "# Chapter 2\n",
        "import spacy\n",
        "nlp = spacy.load('en')\n",
        "text = \"sfsd dfvdsfbsfbdf #ASfdSSGod @sdfsf st bsrtbn sgtr,df\"\n",
        "[str(token) for token in nlp(text.lower())]"
      ],
      "metadata": {
        "colab": {
          "base_uri": "https://localhost:8080/"
        },
        "id": "57pheIf2vjyn",
        "outputId": "a24e2811-3c59-4cec-c6bd-19bdab7ef2ae"
      },
      "execution_count": null,
      "outputs": [
        {
          "output_type": "execute_result",
          "data": {
            "text/plain": [
              "['sfsd',\n",
              " 'dfvdsfbsfbdf',\n",
              " '#',\n",
              " 'asfdssgod',\n",
              " '@sdfsf',\n",
              " 'st',\n",
              " 'bsrtbn',\n",
              " 'sgtr',\n",
              " ',',\n",
              " 'df']"
            ]
          },
          "metadata": {},
          "execution_count": 7
        }
      ]
    },
    {
      "cell_type": "code",
      "source": [
        "from nltk.tokenize import TweetTokenizer\n",
        "tokenizer = TweetTokenizer()\n",
        "tokenizer.tokenize(text.lower())"
      ],
      "metadata": {
        "colab": {
          "base_uri": "https://localhost:8080/"
        },
        "id": "sMq0JQo7vr5M",
        "outputId": "a3503353-6857-4014-d017-cb6c8239eb8a"
      },
      "execution_count": null,
      "outputs": [
        {
          "output_type": "execute_result",
          "data": {
            "text/plain": [
              "['sfsd',\n",
              " 'dfvdsfbsfbdf',\n",
              " '#asfdssgod',\n",
              " '@sdfsf',\n",
              " 'st',\n",
              " 'bsrtbn',\n",
              " 'sgtr',\n",
              " ',',\n",
              " 'df']"
            ]
          },
          "metadata": {},
          "execution_count": 9
        }
      ]
    },
    {
      "cell_type": "code",
      "source": [
        "import spacy\n",
        "nlp = spacy.load('en')\n",
        "doc = nlp(\"he was walking and chilling later that day of the sunny summered! The other person was on City\")\n",
        "for token in doc:\n",
        "  print(f'{token} --> {token.lemma_} {token.pos_}')"
      ],
      "metadata": {
        "colab": {
          "base_uri": "https://localhost:8080/"
        },
        "id": "dAWjyYrEx5B6",
        "outputId": "13e53276-881b-4c0c-891d-04112c6542d7"
      },
      "execution_count": null,
      "outputs": [
        {
          "output_type": "stream",
          "name": "stdout",
          "text": [
            "he --> -PRON- PRON\n",
            "was --> be AUX\n",
            "walking --> walk VERB\n",
            "and --> and CCONJ\n",
            "chilling --> chill VERB\n",
            "later --> later ADV\n",
            "that --> that DET\n",
            "day --> day NOUN\n",
            "of --> of ADP\n",
            "the --> the DET\n",
            "sunny --> sunny ADJ\n",
            "summered --> summer VERB\n",
            "! --> ! PUNCT\n",
            "The --> the DET\n",
            "other --> other ADJ\n",
            "person --> person NOUN\n",
            "was --> be AUX\n",
            "on --> on ADP\n",
            "City --> City PROPN\n"
          ]
        }
      ]
    },
    {
      "cell_type": "code",
      "source": [
        "# Stemming is the poor-man's stemming\n",
        "for chunk in doc.noun_chunks:\n",
        "  print(f'{chunk} - {chunk.label_}')"
      ],
      "metadata": {
        "colab": {
          "base_uri": "https://localhost:8080/"
        },
        "id": "x-XUwbowy3zG",
        "outputId": "c5ee1b72-e8be-4ee6-9b91-3295a36a2e84"
      },
      "execution_count": null,
      "outputs": [
        {
          "output_type": "stream",
          "name": "stdout",
          "text": [
            "he - NP\n",
            "The other person - NP\n",
            "City - NP\n"
          ]
        }
      ]
    },
    {
      "cell_type": "code",
      "source": [
        "# Chapter 3\u0011"
      ],
      "metadata": {
        "id": "fmxeDFVS0hSi"
      },
      "execution_count": null,
      "outputs": []
    }
  ]
}